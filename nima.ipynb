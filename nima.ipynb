{
 "cells": [
  {
   "cell_type": "code",
   "execution_count": 1,
   "metadata": {},
   "outputs": [],
   "source": [
    "%matplotlib inline\n",
    "\n",
    "import importlib.util\n",
    "import math\n",
    "import os.path\n",
    "from os import path\n",
    "import time\n",
    "\n",
    "from fastai.script import *\n",
    "from fastai.vision import *\n",
    "from fastai.callbacks import *\n",
    "from fastai.distributed import *\n",
    "from fastai.callbacks.tracker import *\n",
    "from fastai.utils.ipython import * \n",
    "torch.backends.cudnn.benchmark = True\n",
    "import matplotlib.pyplot as plt\n",
    "import numpy as np\n",
    "import pandas as pd\n",
    "from torch import nn\n",
    "\n",
    "# from PIL import ImageFile\n",
    "# ImageFile.LOAD_TRUNCATED_IMAGES = True"
   ]
  },
  {
   "cell_type": "code",
   "execution_count": 2,
   "metadata": {},
   "outputs": [],
   "source": [
    "# df = pd.read_csv('./labels_sample.csv')\n",
    "df = pd.read_csv('./labels.csv')\n",
    "# df = df.head(1000)"
   ]
  },
  {
   "cell_type": "code",
   "execution_count": 3,
   "metadata": {},
   "outputs": [
    {
     "data": {
      "text/plain": [
       "255530"
      ]
     },
     "execution_count": 3,
     "metadata": {},
     "output_type": "execute_result"
    }
   ],
   "source": [
    "len(df)"
   ]
  },
  {
   "cell_type": "code",
   "execution_count": 4,
   "metadata": {},
   "outputs": [
    {
     "data": {
      "text/html": [
       "<div>\n",
       "<style scoped>\n",
       "    .dataframe tbody tr th:only-of-type {\n",
       "        vertical-align: middle;\n",
       "    }\n",
       "\n",
       "    .dataframe tbody tr th {\n",
       "        vertical-align: top;\n",
       "    }\n",
       "\n",
       "    .dataframe thead th {\n",
       "        text-align: right;\n",
       "    }\n",
       "</style>\n",
       "<table border=\"1\" class=\"dataframe\">\n",
       "  <thead>\n",
       "    <tr style=\"text-align: right;\">\n",
       "      <th></th>\n",
       "      <th>image_name</th>\n",
       "      <th>tags</th>\n",
       "    </tr>\n",
       "  </thead>\n",
       "  <tbody>\n",
       "    <tr>\n",
       "      <td>0</td>\n",
       "      <td>953619</td>\n",
       "      <td>0 1 5 17 38 36 15 6 5 1</td>\n",
       "    </tr>\n",
       "    <tr>\n",
       "      <td>1</td>\n",
       "      <td>953958</td>\n",
       "      <td>10 7 15 26 26 21 10 8 1 2</td>\n",
       "    </tr>\n",
       "    <tr>\n",
       "      <td>2</td>\n",
       "      <td>954184</td>\n",
       "      <td>0 0 4 8 41 56 10 3 4 0</td>\n",
       "    </tr>\n",
       "    <tr>\n",
       "      <td>3</td>\n",
       "      <td>954113</td>\n",
       "      <td>0 1 4 6 48 37 23 5 2 2</td>\n",
       "    </tr>\n",
       "    <tr>\n",
       "      <td>4</td>\n",
       "      <td>953980</td>\n",
       "      <td>0 3 6 15 57 39 6 1 1 1</td>\n",
       "    </tr>\n",
       "  </tbody>\n",
       "</table>\n",
       "</div>"
      ],
      "text/plain": [
       "   image_name                       tags\n",
       "0      953619    0 1 5 17 38 36 15 6 5 1\n",
       "1      953958  10 7 15 26 26 21 10 8 1 2\n",
       "2      954184     0 0 4 8 41 56 10 3 4 0\n",
       "3      954113     0 1 4 6 48 37 23 5 2 2\n",
       "4      953980     0 3 6 15 57 39 6 1 1 1"
      ]
     },
     "execution_count": 4,
     "metadata": {},
     "output_type": "execute_result"
    }
   ],
   "source": [
    "df.head(5)"
   ]
  },
  {
   "cell_type": "code",
   "execution_count": 5,
   "metadata": {},
   "outputs": [],
   "source": [
    "\"\"\"\n",
    "tfms = ([\n",
    "    flip_lr(p=0.5),\n",
    "    brightness(change=(0.4,0.6)),\n",
    "    contrast(scale=(0.7,1.3))\n",
    "], [])\n",
    "\"\"\"\n",
    "tfms = ([], [])"
   ]
  },
  {
   "cell_type": "code",
   "execution_count": 6,
   "metadata": {},
   "outputs": [],
   "source": [
    "scores_map = dict(zip(df.image_name, df.tags))\n",
    "labels = list(scores_map.keys())"
   ]
  },
  {
   "cell_type": "code",
   "execution_count": 7,
   "metadata": {},
   "outputs": [
    {
     "name": "stdout",
     "output_type": "stream",
     "text": [
      "0\n",
      "50000\n",
      "100000\n",
      "150000\n",
      "200000\n",
      "250000\n"
     ]
    }
   ],
   "source": [
    "from PIL import Image\n",
    "assets_not_on_disk = []\n",
    "corrupt_images = [440774, 179118, 371434, 277832, 230701, 729377]\n",
    "for i, img_id in enumerate(labels):\n",
    "    if (i % 50000 == 0):\n",
    "        print(i) \n",
    "    if not (os.path.exists(os.path.join('./data', str(img_id)+'.jpg'))):\n",
    "        assets_not_on_disk.append(img_id)\n",
    "    elif (os.stat(os.path.join('./data', str(img_id)+'.jpg')).st_size/1024 < 50): #img size is < 50KB\n",
    "       corrupt_images.append(img_id)\n",
    "    # else:\n",
    "    #    try:\n",
    "    #        img=Image.open(os.path.join('./data', str(img_id)+'.jpg'))\n",
    "    #        img.transpose(PIL.Image.FLIP_LEFT_RIGHT)\n",
    "    #    except:\n",
    "    #        print(f\"corrupt image:{img_id}\")\n",
    "    #        corrupt_images.append(img_id)\n",
    "        "
   ]
  },
  {
   "cell_type": "code",
   "execution_count": 8,
   "metadata": {},
   "outputs": [
    {
     "data": {
      "text/plain": [
       "(255530, 22, 21035)"
      ]
     },
     "execution_count": 8,
     "metadata": {},
     "output_type": "execute_result"
    }
   ],
   "source": [
    "len(labels), len(assets_not_on_disk), len(corrupt_images)"
   ]
  },
  {
   "cell_type": "code",
   "execution_count": 9,
   "metadata": {},
   "outputs": [
    {
     "name": "stdout",
     "output_type": "stream",
     "text": [
      "Total available images: 234473\n"
     ]
    }
   ],
   "source": [
    "print(f\"Total available images: {len(labels) - len(assets_not_on_disk) - len(corrupt_images)}\")"
   ]
  },
  {
   "cell_type": "code",
   "execution_count": 10,
   "metadata": {},
   "outputs": [],
   "source": [
    "missing_images = assets_not_on_disk + corrupt_images"
   ]
  },
  {
   "cell_type": "code",
   "execution_count": 11,
   "metadata": {},
   "outputs": [
    {
     "data": {
      "text/plain": [
       "21057"
      ]
     },
     "execution_count": 11,
     "metadata": {},
     "output_type": "execute_result"
    }
   ],
   "source": [
    "len(missing_images)"
   ]
  },
  {
   "cell_type": "code",
   "execution_count": 12,
   "metadata": {},
   "outputs": [],
   "source": [
    "df = df[~df.image_name.isin(missing_images)]"
   ]
  },
  {
   "cell_type": "code",
   "execution_count": 13,
   "metadata": {},
   "outputs": [
    {
     "data": {
      "text/plain": [
       "(234474, 234473)"
      ]
     },
     "execution_count": 13,
     "metadata": {},
     "output_type": "execute_result"
    }
   ],
   "source": [
    "len(df), (len(labels) - len(missing_images))"
   ]
  },
  {
   "cell_type": "code",
   "execution_count": 14,
   "metadata": {},
   "outputs": [
    {
     "data": {
      "text/html": [
       "<div>\n",
       "<style scoped>\n",
       "    .dataframe tbody tr th:only-of-type {\n",
       "        vertical-align: middle;\n",
       "    }\n",
       "\n",
       "    .dataframe tbody tr th {\n",
       "        vertical-align: top;\n",
       "    }\n",
       "\n",
       "    .dataframe thead th {\n",
       "        text-align: right;\n",
       "    }\n",
       "</style>\n",
       "<table border=\"1\" class=\"dataframe\">\n",
       "  <thead>\n",
       "    <tr style=\"text-align: right;\">\n",
       "      <th></th>\n",
       "      <th>image_name</th>\n",
       "      <th>tags</th>\n",
       "    </tr>\n",
       "  </thead>\n",
       "  <tbody>\n",
       "    <tr>\n",
       "      <td>10</td>\n",
       "      <td>953417</td>\n",
       "      <td>0 0 0 5 32 50 23 10 3 1</td>\n",
       "    </tr>\n",
       "    <tr>\n",
       "      <td>11</td>\n",
       "      <td>953777</td>\n",
       "      <td>0 3 2 3 13 40 35 21 8 3</td>\n",
       "    </tr>\n",
       "    <tr>\n",
       "      <td>12</td>\n",
       "      <td>953756</td>\n",
       "      <td>0 2 3 9 35 50 20 5 2 2</td>\n",
       "    </tr>\n",
       "    <tr>\n",
       "      <td>13</td>\n",
       "      <td>954195</td>\n",
       "      <td>0 1 7 26 56 23 6 1 0 2</td>\n",
       "    </tr>\n",
       "    <tr>\n",
       "      <td>14</td>\n",
       "      <td>953903</td>\n",
       "      <td>0 1 4 5 33 50 17 9 3 2</td>\n",
       "    </tr>\n",
       "  </tbody>\n",
       "</table>\n",
       "</div>"
      ],
      "text/plain": [
       "    image_name                     tags\n",
       "10      953417  0 0 0 5 32 50 23 10 3 1\n",
       "11      953777  0 3 2 3 13 40 35 21 8 3\n",
       "12      953756   0 2 3 9 35 50 20 5 2 2\n",
       "13      954195   0 1 7 26 56 23 6 1 0 2\n",
       "14      953903   0 1 4 5 33 50 17 9 3 2"
      ]
     },
     "execution_count": 14,
     "metadata": {},
     "output_type": "execute_result"
    }
   ],
   "source": [
    "df.head(5)"
   ]
  },
  {
   "cell_type": "code",
   "execution_count": 15,
   "metadata": {},
   "outputs": [],
   "source": [
    "datablocks_data = list(zip(\n",
    "                        df.image_name.apply(\n",
    "                            lambda x: '{}.jpg'.format(x)), df.tags\n",
    "                       ))\n",
    "datablocks_df = pd.DataFrame(datablocks_data, columns = ['name', 'label'])"
   ]
  },
  {
   "cell_type": "code",
   "execution_count": 16,
   "metadata": {},
   "outputs": [
    {
     "data": {
      "text/html": [
       "<div>\n",
       "<style scoped>\n",
       "    .dataframe tbody tr th:only-of-type {\n",
       "        vertical-align: middle;\n",
       "    }\n",
       "\n",
       "    .dataframe tbody tr th {\n",
       "        vertical-align: top;\n",
       "    }\n",
       "\n",
       "    .dataframe thead th {\n",
       "        text-align: right;\n",
       "    }\n",
       "</style>\n",
       "<table border=\"1\" class=\"dataframe\">\n",
       "  <thead>\n",
       "    <tr style=\"text-align: right;\">\n",
       "      <th></th>\n",
       "      <th>name</th>\n",
       "      <th>label</th>\n",
       "    </tr>\n",
       "  </thead>\n",
       "  <tbody>\n",
       "    <tr>\n",
       "      <td>0</td>\n",
       "      <td>953417.jpg</td>\n",
       "      <td>0 0 0 5 32 50 23 10 3 1</td>\n",
       "    </tr>\n",
       "    <tr>\n",
       "      <td>1</td>\n",
       "      <td>953777.jpg</td>\n",
       "      <td>0 3 2 3 13 40 35 21 8 3</td>\n",
       "    </tr>\n",
       "    <tr>\n",
       "      <td>2</td>\n",
       "      <td>953756.jpg</td>\n",
       "      <td>0 2 3 9 35 50 20 5 2 2</td>\n",
       "    </tr>\n",
       "    <tr>\n",
       "      <td>3</td>\n",
       "      <td>954195.jpg</td>\n",
       "      <td>0 1 7 26 56 23 6 1 0 2</td>\n",
       "    </tr>\n",
       "    <tr>\n",
       "      <td>4</td>\n",
       "      <td>953903.jpg</td>\n",
       "      <td>0 1 4 5 33 50 17 9 3 2</td>\n",
       "    </tr>\n",
       "  </tbody>\n",
       "</table>\n",
       "</div>"
      ],
      "text/plain": [
       "         name                    label\n",
       "0  953417.jpg  0 0 0 5 32 50 23 10 3 1\n",
       "1  953777.jpg  0 3 2 3 13 40 35 21 8 3\n",
       "2  953756.jpg   0 2 3 9 35 50 20 5 2 2\n",
       "3  954195.jpg   0 1 7 26 56 23 6 1 0 2\n",
       "4  953903.jpg   0 1 4 5 33 50 17 9 3 2"
      ]
     },
     "execution_count": 16,
     "metadata": {},
     "output_type": "execute_result"
    }
   ],
   "source": [
    "datablocks_df.head(5)"
   ]
  },
  {
   "cell_type": "code",
   "execution_count": 17,
   "metadata": {},
   "outputs": [],
   "source": [
    "# datablocks_df = datablocks_df.head(100000)"
   ]
  },
  {
   "cell_type": "code",
   "execution_count": 18,
   "metadata": {},
   "outputs": [],
   "source": [
    "# Recompute labels since key is has .jpg extension\n",
    "scores_map = dict(zip(datablocks_df.name, datablocks_df.label))\n",
    "labels = list(datablocks_df.name)"
   ]
  },
  {
   "cell_type": "code",
   "execution_count": 19,
   "metadata": {},
   "outputs": [
    {
     "data": {
      "text/plain": [
       "234474"
      ]
     },
     "execution_count": 19,
     "metadata": {},
     "output_type": "execute_result"
    }
   ],
   "source": [
    "len(labels)"
   ]
  },
  {
   "cell_type": "code",
   "execution_count": 20,
   "metadata": {},
   "outputs": [],
   "source": [
    "class NimaLabelList(CategoryList):\n",
    "    _processor=None\n",
    "    def __init__(self, items:Iterator, classes=labels, label_delim:str=None, **kwargs):\n",
    "        super().__init__(items, classes=classes, **kwargs)\n",
    "\n",
    "    def get(self, i):\n",
    "        dist = scores_map[self.items[i]]\n",
    "        dist = np.array(dist.split(' '), dtype=float)\n",
    "        return dist"
   ]
  },
  {
   "cell_type": "code",
   "execution_count": 21,
   "metadata": {},
   "outputs": [],
   "source": [
    "func = lambda o: o.split('/')[1]"
   ]
  },
  {
   "cell_type": "code",
   "execution_count": 22,
   "metadata": {},
   "outputs": [],
   "source": [
    "data = (ImageList.from_df(datablocks_df, path='./data')\n",
    "        .split_by_rand_pct()\n",
    "        .label_from_func(func, label_cls=NimaLabelList)\n",
    "        .transform(tfms, size=224)\n",
    "        .databunch(bs=64))"
   ]
  },
  {
   "cell_type": "code",
   "execution_count": 23,
   "metadata": {},
   "outputs": [
    {
     "data": {
      "text/plain": [
       "ImageDataBunch;\n",
       "\n",
       "Train: LabelList (187580 items)\n",
       "x: ImageList\n",
       "Image (3, 224, 224),Image (3, 224, 224),Image (3, 224, 224),Image (3, 224, 224),Image (3, 224, 224)\n",
       "y: NimaLabelList\n",
       "[ 0.  0.  0.  5. 32. 50. 23. 10.  3.  1.],[ 0.  3.  2.  3. 13. 40. 35. 21.  8.  3.],[ 0.  2.  3.  9. 35. 50. 20.  5.  2.  2.],[ 0.  1.  4.  5. 33. 50. 17.  9.  3.  2.],[ 0.  1.  2.  4. 18. 41. 29. 17. 10.  4.]\n",
       "Path: data;\n",
       "\n",
       "Valid: LabelList (46894 items)\n",
       "x: ImageList\n",
       "Image (3, 224, 224),Image (3, 224, 224),Image (3, 224, 224),Image (3, 224, 224),Image (3, 224, 224)\n",
       "y: NimaLabelList\n",
       "[ 1.  1. 13. 43. 59. 38. 25.  4.  1.  1.],[ 0.  8. 16. 48. 88. 30.  8.  3.  0.  1.],[ 0.  1.  3.  6. 25. 33. 30. 15.  4.  9.],[ 2.  2.  5.  9. 53. 94. 64. 42. 12.  7.],[ 0.  1. 11. 45. 73. 42.  8.  0.  1.  0.]\n",
       "Path: data;\n",
       "\n",
       "Test: None"
      ]
     },
     "execution_count": 23,
     "metadata": {},
     "output_type": "execute_result"
    }
   ],
   "source": [
    "data"
   ]
  },
  {
   "cell_type": "code",
   "execution_count": 24,
   "metadata": {},
   "outputs": [
    {
     "data": {
      "text/plain": [
       "234474"
      ]
     },
     "execution_count": 24,
     "metadata": {},
     "output_type": "execute_result"
    }
   ],
   "source": [
    "data.c"
   ]
  },
  {
   "cell_type": "code",
   "execution_count": 25,
   "metadata": {},
   "outputs": [],
   "source": [
    "data.c = 10"
   ]
  },
  {
   "cell_type": "code",
   "execution_count": 26,
   "metadata": {},
   "outputs": [],
   "source": [
    "x,y = next(iter(data.train_dl))"
   ]
  },
  {
   "cell_type": "code",
   "execution_count": 27,
   "metadata": {},
   "outputs": [
    {
     "data": {
      "text/plain": [
       "(64, 64)"
      ]
     },
     "execution_count": 27,
     "metadata": {},
     "output_type": "execute_result"
    }
   ],
   "source": [
    "len(x), len(y)"
   ]
  },
  {
   "cell_type": "code",
   "execution_count": 28,
   "metadata": {},
   "outputs": [],
   "source": [
    "# data.show_batch(rows=5, figsize=(9,7))"
   ]
  },
  {
   "cell_type": "code",
   "execution_count": 29,
   "metadata": {},
   "outputs": [],
   "source": [
    "# (input, target)\n",
    "def emd(y_hat, y):\n",
    "    cdf_y = torch.cumsum(y, dim=-1)\n",
    "    cdf_y_hat = torch.cumsum(y_hat, dim=-1).double()\n",
    "    power = torch.pow((cdf_y - cdf_y_hat), 2)\n",
    "    emd = torch.sqrt(torch.mean(power, dim=-1))\n",
    "    return torch.mean(emd)"
   ]
  },
  {
   "cell_type": "markdown",
   "metadata": {},
   "source": [
    "## Transfer Learning using Mobilenet V2"
   ]
  },
  {
   "cell_type": "code",
   "execution_count": 30,
   "metadata": {},
   "outputs": [],
   "source": [
    "# learn = cnn_learner(data, models.resnet34, metrics=error_rate)\n",
    "learner = cnn_learner(data, models.mobilenet_v2, pretrained=True, loss_func=emd) #metrics=[accuracy]"
   ]
  },
  {
   "cell_type": "code",
   "execution_count": 31,
   "metadata": {},
   "outputs": [],
   "source": [
    "y_hat = learner.model(x)"
   ]
  },
  {
   "cell_type": "code",
   "execution_count": 32,
   "metadata": {},
   "outputs": [
    {
     "data": {
      "text/plain": [
       "(torch.Size([64, 10]), torch.Size([64, 10]))"
      ]
     },
     "execution_count": 32,
     "metadata": {},
     "output_type": "execute_result"
    }
   ],
   "source": [
    "y_hat.shape, y.shape"
   ]
  },
  {
   "cell_type": "code",
   "execution_count": 33,
   "metadata": {},
   "outputs": [
    {
     "data": {
      "text/plain": [
       "tensor(143.9577, device='cuda:0', dtype=torch.float64, grad_fn=<MeanBackward0>)"
      ]
     },
     "execution_count": 33,
     "metadata": {},
     "output_type": "execute_result"
    }
   ],
   "source": [
    "emd(y_hat, y)"
   ]
  },
  {
   "cell_type": "code",
   "execution_count": 34,
   "metadata": {},
   "outputs": [
    {
     "data": {
      "text/plain": [
       "(tensor([ 0.,  2.,  3., 11., 62., 99., 51., 25., 10.,  5.], device='cuda:0',\n",
       "        dtype=torch.float64),\n",
       " tensor([  0.,   2.,   5.,  16.,  78., 177., 228., 253., 263., 268.],\n",
       "        device='cuda:0', dtype=torch.float64))"
      ]
     },
     "execution_count": 34,
     "metadata": {},
     "output_type": "execute_result"
    }
   ],
   "source": [
    "y[0], torch.cumsum(y[0], dim=0)"
   ]
  },
  {
   "cell_type": "code",
   "execution_count": 35,
   "metadata": {},
   "outputs": [
    {
     "data": {
      "text/plain": [
       "<function __main__.emd(y_hat, y)>"
      ]
     },
     "execution_count": 35,
     "metadata": {},
     "output_type": "execute_result"
    }
   ],
   "source": [
    "learner.loss_func"
   ]
  },
  {
   "cell_type": "markdown",
   "metadata": {},
   "source": [
    "### Freeze Mobilenet Layers and train only the last layer"
   ]
  },
  {
   "cell_type": "code",
   "execution_count": 36,
   "metadata": {},
   "outputs": [
    {
     "data": {
      "text/html": [
       "<table border=\"1\" class=\"dataframe\">\n",
       "  <thead>\n",
       "    <tr style=\"text-align: left;\">\n",
       "      <th>epoch</th>\n",
       "      <th>train_loss</th>\n",
       "      <th>valid_loss</th>\n",
       "      <th>time</th>\n",
       "    </tr>\n",
       "  </thead>\n",
       "  <tbody>\n",
       "    <tr>\n",
       "      <td>0</td>\n",
       "      <td>37.975716</td>\n",
       "      <td>36.655652</td>\n",
       "      <td>06:26</td>\n",
       "    </tr>\n",
       "    <tr>\n",
       "      <td>1</td>\n",
       "      <td>36.239029</td>\n",
       "      <td>35.848673</td>\n",
       "      <td>06:30</td>\n",
       "    </tr>\n",
       "    <tr>\n",
       "      <td>2</td>\n",
       "      <td>36.532036</td>\n",
       "      <td>35.463296</td>\n",
       "      <td>06:29</td>\n",
       "    </tr>\n",
       "    <tr>\n",
       "      <td>3</td>\n",
       "      <td>35.693943</td>\n",
       "      <td>35.433087</td>\n",
       "      <td>06:29</td>\n",
       "    </tr>\n",
       "  </tbody>\n",
       "</table>"
      ],
      "text/plain": [
       "<IPython.core.display.HTML object>"
      ]
     },
     "metadata": {},
     "output_type": "display_data"
    }
   ],
   "source": [
    "with gpu_mem_restore_ctx():\n",
    "    learner.fit_one_cycle(4)\n",
    "    #learner.fit(2, lr=[3e-7,3e-7, 3e-6]) # discriminative learning rates"
   ]
  },
  {
   "cell_type": "code",
   "execution_count": 37,
   "metadata": {},
   "outputs": [],
   "source": [
    "learner.save('stage-1')"
   ]
  },
  {
   "cell_type": "code",
   "execution_count": 38,
   "metadata": {},
   "outputs": [],
   "source": [
    "learner.load('stage-1');"
   ]
  },
  {
   "cell_type": "code",
   "execution_count": 39,
   "metadata": {},
   "outputs": [
    {
     "data": {
      "text/html": [],
      "text/plain": [
       "<IPython.core.display.HTML object>"
      ]
     },
     "metadata": {},
     "output_type": "display_data"
    },
    {
     "name": "stdout",
     "output_type": "stream",
     "text": [
      "LR Finder is complete, type {learner_name}.recorder.plot() to see the graph.\n"
     ]
    }
   ],
   "source": [
    "learner.lr_find()"
   ]
  },
  {
   "cell_type": "code",
   "execution_count": 40,
   "metadata": {},
   "outputs": [
    {
     "data": {
      "image/png": "[encoded data removed]",
      "text/plain": [
       "<Figure size 432x288 with 1 Axes>"
      ]
     },
     "metadata": {
      "needs_background": "light"
     },
     "output_type": "display_data"
    }
   ],
   "source": [
    "learner.recorder.plot()"
   ]
  },
  {
   "cell_type": "markdown",
   "metadata": {},
   "source": [
    "### Train entire model"
   ]
  },
  {
   "cell_type": "code",
   "execution_count": 42,
   "metadata": {},
   "outputs": [
    {
     "data": {
      "text/html": [
       "<table border=\"1\" class=\"dataframe\">\n",
       "  <thead>\n",
       "    <tr style=\"text-align: left;\">\n",
       "      <th>epoch</th>\n",
       "      <th>train_loss</th>\n",
       "      <th>valid_loss</th>\n",
       "      <th>time</th>\n",
       "    </tr>\n",
       "  </thead>\n",
       "  <tbody>\n",
       "    <tr>\n",
       "      <td>0</td>\n",
       "      <td>36.108082</td>\n",
       "      <td>35.425078</td>\n",
       "      <td>06:50</td>\n",
       "    </tr>\n",
       "    <tr>\n",
       "      <td>1</td>\n",
       "      <td>35.799454</td>\n",
       "      <td>35.410271</td>\n",
       "      <td>06:52</td>\n",
       "    </tr>\n",
       "    <tr>\n",
       "      <td>2</td>\n",
       "      <td>34.785667</td>\n",
       "      <td>35.425704</td>\n",
       "      <td>06:54</td>\n",
       "    </tr>\n",
       "    <tr>\n",
       "      <td>3</td>\n",
       "      <td>35.482304</td>\n",
       "      <td>35.402872</td>\n",
       "      <td>06:54</td>\n",
       "    </tr>\n",
       "  </tbody>\n",
       "</table>"
      ],
      "text/plain": [
       "<IPython.core.display.HTML object>"
      ]
     },
     "metadata": {},
     "output_type": "display_data"
    }
   ],
   "source": [
    "learner.unfreeze()\n",
    "with gpu_mem_restore_ctx():\n",
    "    learner.fit_one_cycle(4, max_lr=slice(3e-7,3e-6))\n",
    "    # learner.fit(5, lr=[3e-7,3e-7, 3e-6]) # discriminative learning rates"
   ]
  },
  {
   "cell_type": "code",
   "execution_count": 43,
   "metadata": {},
   "outputs": [],
   "source": [
    "learner.save('stage-2')"
   ]
  },
  {
   "cell_type": "code",
   "execution_count": 44,
   "metadata": {},
   "outputs": [],
   "source": [
    "pred = learner.model(x)"
   ]
  },
  {
   "cell_type": "markdown",
   "metadata": {},
   "source": [
    "### Compare model distributions to actual distributions"
   ]
  },
  {
   "cell_type": "code",
   "execution_count": 45,
   "metadata": {},
   "outputs": [
    {
     "data": {
      "image/png": "[encoded data removed]",
      "text/plain": [
       "<Figure size 432x288 with 1 Axes>"
      ]
     },
     "metadata": {
      "needs_background": "light"
     },
     "output_type": "display_data"
    }
   ],
   "source": [
    "scores = np.arange(1,11)\n",
    "plt.plot(scores, y[0], label='target');\n",
    "plt.plot(scores, pred[0], label='model output');\n",
    "plt.title(\"PDF\")\n",
    "plt.xlabel(\"score buckets\")\n",
    "plt.ylabel(\"votes\");\n",
    "plt.legend();"
   ]
  },
  {
   "cell_type": "code",
   "execution_count": 46,
   "metadata": {},
   "outputs": [
    {
     "data": {
      "image/png": "[encoded data removed]",
      "text/plain": [
       "<Figure size 432x288 with 1 Axes>"
      ]
     },
     "metadata": {
      "needs_background": "light"
     },
     "output_type": "display_data"
    }
   ],
   "source": [
    "scores = np.arange(1,11)\n",
    "plt.plot(scores, torch.cumsum(y[0], dim=-1), label='target');\n",
    "plt.plot(scores, torch.cumsum(pred[0], dim=-1), label='model output');\n",
    "plt.title(\"CDF\")\n",
    "plt.xlabel(\"scores\")\n",
    "plt.ylabel(\"votes cdf\");\n",
    "plt.legend();"
   ]
  },
  {
   "cell_type": "code",
   "execution_count": null,
   "metadata": {},
   "outputs": [],
   "source": [
    "with gpu_mem_restore_ctx():\n",
    "    # learner.fit_one_cycle(20, max_lr=slice(3e-7,3e-6))\n",
    "    learner.fit(5, lr=[3e-7,3e-7, 3e-6]) # discriminative learning rates"
   ]
  }
 ],
 "metadata": {
  "kernelspec": {
   "display_name": "Python 3",
   "language": "python",
   "name": "python3"
  },
  "language_info": {
   "codemirror_mode": {
    "name": "ipython",
    "version": 3
   },
   "file_extension": ".py",
   "mimetype": "text/x-python",
   "name": "python",
   "nbconvert_exporter": "python",
   "pygments_lexer": "ipython3",
   "version": "3.7.4"
  }
 },
 "nbformat": 4,
 "nbformat_minor": 2
}
